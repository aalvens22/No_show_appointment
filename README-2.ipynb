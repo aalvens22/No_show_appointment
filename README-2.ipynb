{
 "cells": [
  {
   "cell_type": "markdown",
   "metadata": {},
   "source": [
    "# No-Show Appointment\n",
    "## by Alvens Akinkunmi\n",
    "\n",
    "\n",
    "## Introduction\n",
    ">In this project, I will analyze No-Show Appointment Dataset and state my findings about it using Python libraries like Pandas, NumPy, Matplotlib, and seaborn. The dataset collects information from 110k patients appointments in Brazil. The analysis will focus mainly on no show apppintment i.e. maybe the patients showed up for not for their medical appointments.\n",
    "\n",
    "##  Data Information\n",
    "> - Important information of each patient registered for appointment is listed below\n",
    "> - PatientId: Identify code of a patient.\n",
    "> - AppointmentID: Identify code of each appointment.\n",
    "> - Gender: Male (M) or Female (F).\n",
    "> - ScheduledDay: The day someone called or registered the appointment, before appointment.\n",
    "> - AppointmentDay: The day of the actual appointment, when they have to visit the doctor.\n",
    "> - Age: Age of the patient.\n",
    "> - Neighbourhood: Where the appointment takes place.\n",
    "> - Scholarship: True (1) of False (0).\n",
    "> - Hipertension: True (1) or False (0).\n",
    "> - Diabetes: True (1) or False (0).\n",
    "> - Alcoholism: True (1) or False (0).\n",
    "> - Handicap: The handicap refers to the number of desabilites a person has. \n",
    "> - SMS_received: 1 or more messages sent to the patient.\n",
    "> - No-show: Yes or No., maybe the patient showed up or not\n",
    "\n",
    "## Insights\n",
    "> I grouped all dogs in the data by name. It was gathered that most of the dogs are called by either the name, `A` which has the highest frequency of occurence, or by `Lucy`, which has the second highest frequency  and then by the name, `Charlie`.\n",
    "The top rated breed as showned in the figure below is the `Dumber` with an average rating of `14`.\n",
    "From the figure below, it could be seen that the least rated breed of dog from the WeRateDogs dataset is the `Japanese spaniel` with an average rating of `5`.\n",
    "And lastly, the `Labrador retriever` was discovered to have the highest retweet count with a value of `79515`.\n",
    "\n",
    "## Conclusion and Improvement\n",
    "> - The dataset contained 110,527 appointments in 40 days.\n",
    "> - About 77% of the patients show up\n",
    "> - Most patients :\n",
    "  -  a.  were young and and average age of 37 years\n",
    "  -  b.  were females and didn't have scholarship\n",
    "  -  c.  scheduled their appointments the same day\n",
    "  -  d.  that missed appointments were young\n",
    "> - Top 2 neighbourhoors that got appointments were Jardim Camburi and Maria Ortiz\n",
    "> - The provided dataset is not sufficient to determine the effect of Neighbourhood on number of no-show patients\n",
    "\n",
    "## Limitations\n",
    "> - The dataset is old, a recent dataset would have been much better\n",
    "> - The dataset only cover a few days, 40 days, longer days data would have given more insights"
   ]
  },
  {
   "cell_type": "code",
   "execution_count": null,
   "metadata": {},
   "outputs": [],
   "source": []
  }
 ],
 "metadata": {
  "kernelspec": {
   "display_name": "Python 3",
   "language": "python",
   "name": "python3"
  },
  "language_info": {
   "codemirror_mode": {
    "name": "ipython",
    "version": 3
   },
   "file_extension": ".py",
   "mimetype": "text/x-python",
   "name": "python",
   "nbconvert_exporter": "python",
   "pygments_lexer": "ipython3",
   "version": "3.7.6"
  }
 },
 "nbformat": 4,
 "nbformat_minor": 4
}
